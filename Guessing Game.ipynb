{
 "cells": [
  {
   "cell_type": "code",
   "execution_count": 1,
   "metadata": {},
   "outputs": [
    {
     "name": "stdout",
     "output_type": "stream",
     "text": [
      "Hey! Welcome everyone to the guessing game where you will have to guess a number.\n",
      "The rules are simple:\n",
      "\t1. Guess a number,there is no specific limit to what number you have to guess.\n",
      "\t2. If the number you guessed is within 10 numbers from the answer, you will get 'WARM' or else you'll get 'COLD'.\n",
      "\t3. Guess again, and this time, if the number is closer to the number you guessed before, it will say 'WARMER' or else it'll say 'COLDER'.\n",
      "\t4. Keep guessing until you get the exact number when it'll say 'CONGRATULATIONS! YOU'VE GUESSED CORRECTLY'.\n",
      "I'm guessing a number that is within the range 1 to 100.\n",
      "What is your guess?: 77\n",
      "COLD\n",
      "I'm guessing a number that is within the range 1 to 100.\n",
      "What is your guess?: 110\n",
      "OUT OF BOUNDS. Please Try Again:\n",
      "I'm guessing a number that is within the range 1 to 100.\n",
      "What is your guess?: 55\n",
      "WARMER\n",
      "I'm guessing a number that is within the range 1 to 100.\n",
      "What is your guess?: 50\n",
      "WARMER\n",
      "I'm guessing a number that is within the range 1 to 100.\n",
      "What is your guess?: 47\n",
      "WARMER\n",
      "I'm guessing a number that is within the range 1 to 100.\n",
      "What is your guess?: 30\n",
      "COLDER\n",
      "I'm guessing a number that is within the range 1 to 100.\n",
      "What is your guess?: 40\n",
      "WARMER\n",
      "I'm guessing a number that is within the range 1 to 100.\n",
      "What is your guess?: 41\n",
      "WARMER\n",
      "I'm guessing a number that is within the range 1 to 100.\n",
      "What is your guess?: 43\n",
      "WARMER\n",
      "I'm guessing a number that is within the range 1 to 100.\n",
      "What is your guess?: 45\n",
      "CONGRATULATIONS! You've guessed the correct number in just 9 Guesses\n"
     ]
    }
   ],
   "source": [
    "print(\"Hey! Welcome everyone to the guessing game where you will have to guess a number.\\nThe rules are simple:\\n\\t1. Guess a number,there is no specific limit to what number you have to guess.\\n\\t2. If the number you guessed is within 10 numbers from the answer, you will get 'WARM' or else you'll get 'COLD'.\\n\\t3. Guess again, and this time, if the number is closer to the number you guessed before, it will say 'WARMER' or else it'll say 'COLDER'.\\n\\t4. Keep guessing until you get the exact number when it'll say 'CONGRATULATIONS! YOU'VE GUESSED CORRECTLY'.\")\n",
    "\n",
    "from random import randint\n",
    "\n",
    "our_guess = randint(1,100)\n",
    "\n",
    "guess_log = [0]\n",
    "\n",
    "while True:\n",
    "    guess = int(input(\"I'm guessing a number that is within the range 1 to 100.\\nWhat is your guess?: \"))\n",
    "    if guess > 100 or guess < 1:\n",
    "        print(\"OUT OF BOUNDS. Please Try Again:\")\n",
    "        continue\n",
    "    if guess == our_guess:\n",
    "        print(\"CONGRATULATIONS! You've guessed the correct number in just {} Guesses\".format(len(guess_log)))\n",
    "        break\n",
    "    guess_log.append(guess)\n",
    "    if guess_log[-2]:\n",
    "        if abs(guess-our_guess)<=abs(guess_log[-2]-our_guess):\n",
    "            print(\"WARMER\")\n",
    "        else:\n",
    "            print(\"COLDER\")\n",
    "    elif abs(guess-our_guess)<10:\n",
    "        print(\"WARM\")\n",
    "    else:\n",
    "        print(\"COLD\")\n",
    "        continue"
   ]
  },
  {
   "cell_type": "code",
   "execution_count": null,
   "metadata": {},
   "outputs": [],
   "source": []
  }
 ],
 "metadata": {
  "kernelspec": {
   "display_name": "Python 3 (ipykernel)",
   "language": "python",
   "name": "python3"
  },
  "language_info": {
   "codemirror_mode": {
    "name": "ipython",
    "version": 3
   },
   "file_extension": ".py",
   "mimetype": "text/x-python",
   "name": "python",
   "nbconvert_exporter": "python",
   "pygments_lexer": "ipython3",
   "version": "3.9.12"
  }
 },
 "nbformat": 4,
 "nbformat_minor": 4
}
